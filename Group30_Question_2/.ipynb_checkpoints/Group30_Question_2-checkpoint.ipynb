{
 "cells": [
  {
   "cell_type": "markdown",
   "id": "a4ff764d",
   "metadata": {},
   "source": [
    "# Question-2"
   ]
  },
  {
   "cell_type": "markdown",
   "id": "b0a5e3bf",
   "metadata": {},
   "source": [
    "### Question-2.1\n",
    "In this part, you will build a model to forecast the hourly carpark availability in the future\n",
    "(aggregated across all carparks instead of looking at each carpark individually). Can you\n",
    "explain why you may want to forecast the carpark availability in the future? Who would\n",
    "find this information valuable? What can you do if you have a good forecasting model?"
   ]
  },
  {
   "cell_type": "code",
   "execution_count": null,
   "id": "5ef113aa",
   "metadata": {},
   "outputs": [],
   "source": []
  },
  {
   "cell_type": "markdown",
   "id": "4a98e9d4",
   "metadata": {},
   "source": [
    "### Question-2.2\n",
    "Build a linear regression model to forecast the hourly carpark availability for a given\n",
    "month. Use the month of July 2022 as a training dataset and the month of August 2022\n",
    "as the test dataset. For this part, do not use additional datasets. The target is the hourly\n",
    "carpark availability percentage and you will have to decide what features you want to\n",
    "use. Generate two plots: (i) Time series plot of the actual and predicted hourly values\n",
    "(ii) Scatter plot of actual vs predicted hourly values (along with a line showing how good\n",
    "the fit is)."
   ]
  },
  {
   "cell_type": "code",
   "execution_count": null,
   "id": "ff147c8e",
   "metadata": {},
   "outputs": [],
   "source": []
  },
  {
   "cell_type": "markdown",
   "id": "255cb259",
   "metadata": {},
   "source": [
    "### Question-2.3\n",
    "Do the same as Question 2.2 above but use support vector regressor (SVR)."
   ]
  },
  {
   "cell_type": "code",
   "execution_count": null,
   "id": "4959f2d2",
   "metadata": {},
   "outputs": [],
   "source": []
  },
  {
   "cell_type": "markdown",
   "id": "f0cbf465",
   "metadata": {},
   "source": [
    "### Question-2.4\n",
    "Do the same as Question 2.2 above but use decision tree (DT) regressor."
   ]
  },
  {
   "cell_type": "code",
   "execution_count": null,
   "id": "35df4739",
   "metadata": {},
   "outputs": [],
   "source": []
  },
  {
   "cell_type": "markdown",
   "id": "484a5318",
   "metadata": {},
   "source": [
    "### Question-2.5\n",
    "Make a final recommendation for the best regression model (out of the 3 methods above)\n",
    "by choosing a suitable performance metric. To ensure a fair comparison, carry out hyperparameter\n",
    "tuning for all 3 methods. Then, make a final recommendation selecting only\n",
    "one model. Include both quantitative and qualitative arguments for your choice."
   ]
  },
  {
   "cell_type": "code",
   "execution_count": null,
   "id": "289e3779",
   "metadata": {},
   "outputs": [],
   "source": []
  }
 ],
 "metadata": {
  "kernelspec": {
   "display_name": "Python 3 (ipykernel)",
   "language": "python",
   "name": "python3"
  },
  "language_info": {
   "codemirror_mode": {
    "name": "ipython",
    "version": 3
   },
   "file_extension": ".py",
   "mimetype": "text/x-python",
   "name": "python",
   "nbconvert_exporter": "python",
   "pygments_lexer": "ipython3",
   "version": "3.8.13"
  }
 },
 "nbformat": 4,
 "nbformat_minor": 5
}
